{
 "cells": [
  {
   "cell_type": "markdown",
   "metadata": {},
   "source": [
    "## Omega and Xi\n",
    "\n",
    "To implement Graph SLAM, a matrix and a vector (omega and xi, respectively) are introduced. The matrix is square and labelled with all the robot poses (xi) and all the landmarks (Li). Every time you make an observation, for example, as you move between two poses by some distance `dx` and can relate those two positions, you can represent this as a numerical relationship in these matrices.\n",
    "\n",
    "Below you can see a matrix representation of omega and a vector representation of xi.\n",
    "\n",
    "<img src='images/omega_xi.png' width=20% height=20% />\n",
    "\n",
    "\n",
    "### Solving for x, L\n",
    "\n",
    "To \"solve\" for all these poses and landmark positions, we can use linear algebra; all the positional values are in the vector `mu` which can be calculated as a product of the inverse of omega times xi.\n",
    "\n",
    "---\n"
   ]
  },
  {
   "cell_type": "markdown",
   "metadata": {},
   "source": [
    "### Quiz: Construct constraints for 3 motions and return `mu`\n",
    "\n",
    "In the following example, you will complete the function call `mu_from_positions(-3, 5, 3)`, which takes in 3 robot poses/moves:\n",
    "* initial pose: -3\n",
    "* moves by 5\n",
    "* moves by 3\n",
    "\n",
    "In this function, you should construct the constraint matrices `omega` and `xi` and calculate `mu`. The final call should result in a `mu` of:\n",
    "```\n",
    "[[-3.0],\n",
    " [2.0],\n",
    " [5.0]]\n",
    " ```"
   ]
  },
  {
   "cell_type": "markdown",
   "metadata": {},
   "source": [
    "## Constraint Updates\n",
    "\n",
    "We will not consider landmark sensor measurements in this example, only robot poses.\n",
    "\n",
    "#### Motion\n",
    "When your robot moves by some amount `dx` update the constraint matrices as follows:\n",
    "* Add `[[1, -1], [-1, 1]]` to omega at the indices for the intersection of `xt` and `xt+1`\n",
    "* Add `-dx` and `dx` to xi at the rows for `xt` and `xt+1`"
   ]
  },
  {
   "cell_type": "code",
   "execution_count": 1,
   "metadata": {},
   "outputs": [],
   "source": [
    "import numpy as np\n",
    "def update(omega, xi, dx, xt):\n",
    "    omega[xt][xt] = omega[xt][xt] + 1\n",
    "    omega[xt][xt+1] = omega[xt][xt+1] - 1\n",
    "    omega[xt+1][xt] = omega[xt+1][xt] - 1\n",
    "    omega[xt+1][xt+1] = omega[xt+1][xt+1] + 1\n",
    "    xi[xt][0] = xi[xt][0] - dx\n",
    "    xi[xt+1][0] = xi[xt+1][0] + dx\n",
    "\n",
    "def mu_from_positions(initial_pos, move1, move2):\n",
    "    \n",
    "    ## TODO: construct constraint matrices\n",
    "    ## and add each position/motion constraint to them\n",
    "    omega = [[1, 0, 0],\n",
    "             [0, 0, 0],\n",
    "             [0, 0, 0]\n",
    "            ]\n",
    "    xi = [[initial_pos], [0], [0]]\n",
    "    \n",
    "    # Your code here\n",
    "    update(omega, xi, move1, 0)\n",
    "    update(omega, xi, move2, 1)\n",
    "    \n",
    "    # display final omega and xi\n",
    "    print('Omega: \\n', omega)\n",
    "    print('\\n')\n",
    "    print('Xi: \\n', xi)\n",
    "    print('\\n')\n",
    "    \n",
    "    ## TODO: calculate mu as the inverse of omega * xi\n",
    "    ## recommended that you use: np.linalg.inv(np.matrix(omega)) to calculate the inverse\n",
    "    mu = np.linalg.inv(np.matrix(omega))*xi\n",
    "    return mu\n"
   ]
  },
  {
   "cell_type": "code",
   "execution_count": 2,
   "metadata": {},
   "outputs": [
    {
     "name": "stdout",
     "output_type": "stream",
     "text": [
      "Omega: \n",
      " [[2, -1, 0], [-1, 2, -1], [0, -1, 1]]\n",
      "\n",
      "\n",
      "Xi: \n",
      " [[-8], [2], [3]]\n",
      "\n",
      "\n",
      "Mu: \n",
      " [[-3.]\n",
      " [ 2.]\n",
      " [ 5.]]\n"
     ]
    }
   ],
   "source": [
    "# call function and print out `mu`\n",
    "mu = mu_from_positions(-3, 5, 3)\n",
    "print('Mu: \\n', mu)"
   ]
  },
  {
   "cell_type": "code",
   "execution_count": null,
   "metadata": {
    "collapsed": true
   },
   "outputs": [],
   "source": []
  }
 ],
 "metadata": {
  "kernelspec": {
   "display_name": "Python 3",
   "language": "python",
   "name": "python3"
  },
  "language_info": {
   "codemirror_mode": {
    "name": "ipython",
    "version": 3
   },
   "file_extension": ".py",
   "mimetype": "text/x-python",
   "name": "python",
   "nbconvert_exporter": "python",
   "pygments_lexer": "ipython3",
   "version": "3.6.4"
  }
 },
 "nbformat": 4,
 "nbformat_minor": 2
}
